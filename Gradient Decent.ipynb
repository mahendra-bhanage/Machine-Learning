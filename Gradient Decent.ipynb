{
 "cells": [
  {
   "cell_type": "markdown",
   "id": "bc2bb78a",
   "metadata": {},
   "source": [
    "## GD - Linear regression but we have kept m constant"
   ]
  },
  {
   "cell_type": "code",
   "execution_count": 146,
   "id": "8582e37e",
   "metadata": {},
   "outputs": [],
   "source": [
    "from sklearn.datasets import make_regression\n",
    "import matplotlib.pyplot as plt\n",
    "import numpy as np\n",
    "from sklearn.linear_model import LinearRegression\n",
    "from sklearn.model_selection import cross_val_score"
   ]
  },
  {
   "cell_type": "code",
   "execution_count": 147,
   "id": "4aad352b",
   "metadata": {},
   "outputs": [],
   "source": [
    "X,y = make_regression(n_samples=100,n_features=1,n_informative=1,n_targets=1,noise=20)"
   ]
  },
  {
   "cell_type": "code",
   "execution_count": 148,
   "id": "b73e80a2",
   "metadata": {},
   "outputs": [
    {
     "data": {
      "text/plain": [
       "<matplotlib.collections.PathCollection at 0x7f1c5fa40400>"
      ]
     },
     "execution_count": 148,
     "metadata": {},
     "output_type": "execute_result"
    },
    {
     "data": {
      "image/png": "[encoded data removed]",
      "text/plain": [
       "<Figure size 432x288 with 1 Axes>"
      ]
     },
     "metadata": {
      "needs_background": "light"
     },
     "output_type": "display_data"
    }
   ],
   "source": [
    "plt.scatter(X,y)"
   ]
  },
  {
   "cell_type": "code",
   "execution_count": 149,
   "id": "718c7c20",
   "metadata": {},
   "outputs": [
    {
     "data": {
      "text/plain": [
       "LinearRegression()"
      ]
     },
     "execution_count": 149,
     "metadata": {},
     "output_type": "execute_result"
    }
   ],
   "source": [
    "lr = LinearRegression()\n",
    "lr.fit(X,y)"
   ]
  },
  {
   "cell_type": "code",
   "execution_count": 150,
   "id": "e1a27f9b",
   "metadata": {},
   "outputs": [
    {
     "data": {
      "text/plain": [
       "array([94.30072989])"
      ]
     },
     "execution_count": 150,
     "metadata": {},
     "output_type": "execute_result"
    }
   ],
   "source": [
    "lr.coef_"
   ]
  },
  {
   "cell_type": "code",
   "execution_count": 151,
   "id": "cbf3ba5e",
   "metadata": {},
   "outputs": [
    {
     "data": {
      "text/plain": [
       "2.6586315783984906"
      ]
     },
     "execution_count": 151,
     "metadata": {},
     "output_type": "execute_result"
    }
   ],
   "source": [
    "lr.intercept_"
   ]
  },
  {
   "cell_type": "code",
   "execution_count": 185,
   "id": "b29323d7",
   "metadata": {
    "scrolled": true
   },
   "outputs": [
    {
     "data": {
      "text/plain": [
       "array([[ 1.28309541],\n",
       "       [ 1.11289677],\n",
       "       [-0.45901428],\n",
       "       [ 0.01276213],\n",
       "       [ 0.12806778],\n",
       "       [-0.41862208],\n",
       "       [ 1.81994439],\n",
       "       [-1.39601865],\n",
       "       [ 1.45412952],\n",
       "       [-0.08134586],\n",
       "       [ 2.07996184],\n",
       "       [-0.18660891],\n",
       "       [-1.68426914],\n",
       "       [-2.31292972],\n",
       "       [-0.63163199],\n",
       "       [-0.56133592],\n",
       "       [-1.74884766],\n",
       "       [ 0.72637372],\n",
       "       [ 1.08746703],\n",
       "       [-0.0496859 ],\n",
       "       [ 0.10743787],\n",
       "       [ 0.18616775],\n",
       "       [ 0.52252559],\n",
       "       [-0.24550982],\n",
       "       [-0.62919903],\n",
       "       [ 0.75921668],\n",
       "       [-0.45394163],\n",
       "       [-2.22133029],\n",
       "       [ 1.58593756],\n",
       "       [-1.84211034],\n",
       "       [-0.06591129],\n",
       "       [-0.95749381],\n",
       "       [-0.90514961],\n",
       "       [ 0.93267232],\n",
       "       [-0.36817743],\n",
       "       [-1.59971104],\n",
       "       [-0.16994813],\n",
       "       [ 0.87132405],\n",
       "       [ 1.30571808],\n",
       "       [-0.91269678],\n",
       "       [-1.31144502],\n",
       "       [ 0.33592184],\n",
       "       [ 1.2201393 ],\n",
       "       [-0.30494974],\n",
       "       [ 0.04643823],\n",
       "       [ 0.30222553],\n",
       "       [ 1.00593686],\n",
       "       [ 0.1421444 ],\n",
       "       [-0.20380692],\n",
       "       [ 0.713872  ],\n",
       "       [ 0.25657831],\n",
       "       [ 0.56271369],\n",
       "       [ 0.26738683],\n",
       "       [-0.4915504 ],\n",
       "       [-1.2083306 ],\n",
       "       [-0.52672295],\n",
       "       [-0.17457845],\n",
       "       [ 0.6652233 ],\n",
       "       [ 0.66245755],\n",
       "       [-0.77301852],\n",
       "       [-0.91026511],\n",
       "       [ 0.11356515],\n",
       "       [ 1.38802845],\n",
       "       [-0.26545848],\n",
       "       [-0.46322543],\n",
       "       [-1.06625799],\n",
       "       [ 1.60910856],\n",
       "       [-0.89689919],\n",
       "       [ 0.16546375],\n",
       "       [-2.5470614 ],\n",
       "       [-0.44571803],\n",
       "       [ 0.68892069],\n",
       "       [-0.72816406],\n",
       "       [ 0.36400333],\n",
       "       [ 0.11358221],\n",
       "       [-0.17952337],\n",
       "       [-0.52250542],\n",
       "       [ 1.0585067 ],\n",
       "       [ 0.81294837],\n",
       "       [-1.55397811],\n",
       "       [ 1.30084729],\n",
       "       [-0.18041628],\n",
       "       [-1.17513352],\n",
       "       [-0.57061767],\n",
       "       [-0.64270193],\n",
       "       [-0.03662323],\n",
       "       [-0.75306875],\n",
       "       [ 0.77792082],\n",
       "       [ 0.04690676],\n",
       "       [ 0.36675074],\n",
       "       [-0.99595366],\n",
       "       [ 0.98199416],\n",
       "       [ 0.80682987],\n",
       "       [ 1.1613407 ],\n",
       "       [-1.03538612],\n",
       "       [-0.20299579],\n",
       "       [ 0.09486773],\n",
       "       [ 0.63129318],\n",
       "       [-0.18204743],\n",
       "       [-0.36976966]])"
      ]
     },
     "execution_count": 185,
     "metadata": {},
     "output_type": "execute_result"
    }
   ],
   "source": [
    "X"
   ]
  },
  {
   "cell_type": "code",
   "execution_count": 186,
   "id": "c8a13d75",
   "metadata": {},
   "outputs": [
    {
     "data": {
      "text/plain": [
       "array([123.65546526])"
      ]
     },
     "execution_count": 186,
     "metadata": {},
     "output_type": "execute_result"
    }
   ],
   "source": [
    "lr.predict(np.array([1.28309541]).reshape(1,1))"
   ]
  },
  {
   "cell_type": "code",
   "execution_count": 152,
   "id": "9d81f81d",
   "metadata": {},
   "outputs": [
    {
     "data": {
      "text/plain": [
       "0.9447894105727972"
      ]
     },
     "execution_count": 152,
     "metadata": {},
     "output_type": "execute_result"
    }
   ],
   "source": [
    "np.mean(cross_val_score(lr,X,y,scoring='r2',cv=10))"
   ]
  },
  {
   "cell_type": "code",
   "execution_count": 153,
   "id": "67967710",
   "metadata": {},
   "outputs": [],
   "source": [
    "m = 94.300729"
   ]
  },
  {
   "cell_type": "code",
   "execution_count": 157,
   "id": "4b33a6c7",
   "metadata": {},
   "outputs": [],
   "source": [
    "class GDRegressor:\n",
    "    def __init__(self,learning_rate,epochs):\n",
    "        self.m = m\n",
    "        self.b = 0\n",
    "        self.lr = learning_rate\n",
    "        self.epochs = epochs\n",
    "        \n",
    "    def fit(self,X,y):\n",
    "        #calculate b using GD\n",
    "        for i in range(self.epochs):\n",
    "            slope = -2 * np.sum(y - self.m*X.ravel() - self.b)\n",
    "            self.b = self.b - slope * self.lr\n",
    "        print(self.b)"
   ]
  },
  {
   "cell_type": "code",
   "execution_count": 158,
   "id": "ba2ae008",
   "metadata": {},
   "outputs": [],
   "source": [
    "gd = GDRegressor(0.001,200)"
   ]
  },
  {
   "cell_type": "code",
   "execution_count": 159,
   "id": "486e8206",
   "metadata": {},
   "outputs": [
    {
     "name": "stdout",
     "output_type": "stream",
     "text": [
      "2.658631525298451\n"
     ]
    }
   ],
   "source": [
    "gd.fit(X,y)  "
   ]
  },
  {
   "cell_type": "markdown",
   "id": "672bf41f",
   "metadata": {},
   "source": [
    "## Notes\n",
    "- For irregular output tune learning rate and epoch value"
   ]
  },
  {
   "cell_type": "markdown",
   "id": "b6206949",
   "metadata": {},
   "source": [
    "## Full GD"
   ]
  },
  {
   "cell_type": "code",
   "execution_count": 179,
   "id": "56ca69a2",
   "metadata": {},
   "outputs": [],
   "source": [
    "from sklearn.model_selection import train_test_split\n",
    "from sklearn.metrics import r2_score"
   ]
  },
  {
   "cell_type": "code",
   "execution_count": 174,
   "id": "e3867280",
   "metadata": {},
   "outputs": [],
   "source": [
    "X_train,X_test,y_train,y_test = train_test_split(X,y,test_size=0.2,random_state=2)"
   ]
  },
  {
   "cell_type": "code",
   "execution_count": 168,
   "id": "398289d5",
   "metadata": {},
   "outputs": [],
   "source": [
    "class GDRegressor:\n",
    "    def __init__(self,learning_rate,epochs):\n",
    "        self.m = 100\n",
    "        self.b = -120\n",
    "        self.lr = learning_rate\n",
    "        self.epochs = epochs\n",
    "        \n",
    "    def fit(self,X,y):\n",
    "        #calculate b using GD\n",
    "        \n",
    "        for i in range(self.epochs):\n",
    "            b_slope = -2 * np.sum(y - self.m*X.ravel() - self.b)\n",
    "            self.b = self.b - (b_slope * self.lr)\n",
    "            \n",
    "            m_slope = -2 * np.sum((y - self.m*X.ravel() - self.b)*X.ravel())\n",
    "            self.m = self.m - (m_slope * self.lr)\n",
    "            \n",
    "        print(\"b = \",self.b, \" and m = \",self.m)\n",
    "    \n",
    "    def predict(self,X):\n",
    "        return self.m * X + self.b"
   ]
  },
  {
   "cell_type": "code",
   "execution_count": 169,
   "id": "638ba494",
   "metadata": {},
   "outputs": [],
   "source": [
    "gd = GDRegressor(0.001,100)"
   ]
  },
  {
   "cell_type": "code",
   "execution_count": 175,
   "id": "81b33d48",
   "metadata": {},
   "outputs": [
    {
     "name": "stdout",
     "output_type": "stream",
     "text": [
      "b =  3.75315017008157  and m =  93.45420452679906\n"
     ]
    }
   ],
   "source": [
    "gd.fit(X_train,y_train)  "
   ]
  },
  {
   "cell_type": "code",
   "execution_count": 177,
   "id": "c9f5308e",
   "metadata": {},
   "outputs": [],
   "source": [
    "y_pred =  gd.predict(X_test)"
   ]
  },
  {
   "cell_type": "code",
   "execution_count": 178,
   "id": "10441774",
   "metadata": {},
   "outputs": [
    {
     "data": {
      "text/plain": [
       "array([[ -49.57347029],\n",
       "       [  -2.40653721],\n",
       "       [ -12.56194043],\n",
       "       [ -55.04814513],\n",
       "       [-159.68401701],\n",
       "       [ -19.19077442],\n",
       "       [ -39.14366459],\n",
       "       [-203.83950463],\n",
       "       [ 151.96568368],\n",
       "       [-212.399857  ],\n",
       "       [ -30.80337925],\n",
       "       [  79.15479404],\n",
       "       [ -45.07717801],\n",
       "       [ -55.27551512],\n",
       "       [ 123.66381086],\n",
       "       [  21.15130913],\n",
       "       [   4.94582452],\n",
       "       [-168.39980646],\n",
       "       [  14.3662905 ],\n",
       "       [-141.47263793]])"
      ]
     },
     "execution_count": 178,
     "metadata": {},
     "output_type": "execute_result"
    }
   ],
   "source": [
    "y_pred"
   ]
  },
  {
   "cell_type": "code",
   "execution_count": 180,
   "id": "abbf78b5",
   "metadata": {},
   "outputs": [
    {
     "data": {
      "text/plain": [
       "0.9437935069549906"
      ]
     },
     "execution_count": 180,
     "metadata": {},
     "output_type": "execute_result"
    }
   ],
   "source": [
    "r2_score(y_pred,y_test)"
   ]
  },
  {
   "cell_type": "code",
   "execution_count": null,
   "id": "a1fde1e2",
   "metadata": {},
   "outputs": [],
   "source": []
  }
 ],
 "metadata": {
  "kernelspec": {
   "display_name": "Python 3 (ipykernel)",
   "language": "python",
   "name": "python3"
  },
  "language_info": {
   "codemirror_mode": {
    "name": "ipython",
    "version": 3
   },
   "file_extension": ".py",
   "mimetype": "text/x-python",
   "name": "python",
   "nbconvert_exporter": "python",
   "pygments_lexer": "ipython3",
   "version": "3.8.13"
  }
 },
 "nbformat": 4,
 "nbformat_minor": 5
}
